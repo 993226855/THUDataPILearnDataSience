{
 "cells": [
  {
   "cell_type": "markdown",
   "metadata": {
    "collapsed": false
   },
   "source": [
    "# 层次聚类（Hierarchical Clustering）"
   ]
  },
  {
   "cell_type": "markdown",
   "metadata": {},
   "source": [
    "## 1. 算法介绍"
   ]
  },
  {
   "cell_type": "markdown",
   "metadata": {
    "collapsed": false
   },
   "source": [
    "聚类（Clustering）是非监督学习（Unsupervised Learing）的一类重要的应用，旨在从数据中发现其隐藏的模式或结构，即数据探索的作用。传统的聚类分析算法可分为基于质心，分布，密度，连接等的算法，其中应用最多的kmean算法就是一种典型的基于质心的算法。但是kmeans算法需要提前指定k值，即类的数量，而不同的k值的聚类结果差异很大。层次聚类作为一种基于连接的算法，其优点在于用户无需提前指定类数，而且可以通过树状图解释聚类结果。"
   ]
  },
  {
   "cell_type": "markdown",
   "metadata": {},
   "source": [
    "层次聚类的基本出发点在于：一个大类总可以分成多个小的子类，而子类又可以分成子类的子类，类似于生物学的系统树图。按照聚类方向，层次聚类可以分为**agglomerative**（自下而上）和**divisive**（自上而下）两种类型。在agglomerative方法中，每个样本开始都作为一个独立的类，每次合并最接近的两个类，直到最后只有一个类为止。而divisive则相反，开始时所有样本都属于一个大类，然后每次将其中一个大类分解成两个更小的子类，直到每个样本都成为一个子类。一般情况下，agglomerative方法的计算复杂度为$O(n^{2}\\text{log}(n))$，而divisive的复杂度为$O(2^{n})$。本文仅介绍agglomerative的层次聚类方法。"
   ]
  },
  {
   "cell_type": "markdown",
   "metadata": {},
   "source": [
    "![agglomerative-vs-divisive](img/1.png)"
   ]
  },
  {
   "cell_type": "markdown",
   "metadata": {},
   "source": [
    "**Agglomerative clustering**算法主要分为以下X个步骤：\n",
    "\n",
    "1. 对N个样本，初始化得到含有N个类的集合C，每个类有且仅有一个样本，即$c_{i} = \\{x_{i}\\}$\n",
    "2. 找到最接近的两个类：$\\text{min}D(c_{i}, c_{j})$\n",
    "3. 合并上述两个最近的类$c_{i}, c_{j}$，得到新的大类$c_{i+j}$\n",
    "4. 在集合C中移除已经合并的两个子类$c_{i}, c_{j}$\n",
    "5. 重复2-5，直到C中仅有一个类\n",
    "\n",
    "其中$x_{i}$为第$i$个样本，$c_{i}$为第i个类。"
   ]
  },
  {
   "cell_type": "markdown",
   "metadata": {},
   "source": [
    "算法原理很简单，其中最重要的问题是如何定义接近，即需要一个距离的定义。 距离定义不同，聚类结果也不同。根据不同的距离，层次聚类可分为：\n",
    "\n",
    "* single linkage (两个类中距离最近的两个样本间的距离)\n",
    "* complete linkage （两个类中距离最远的两个样本间的距离）\n",
    "* average linkage （两个类中所有样本的平均距离）\n",
    "\n",
    "此外，还有Ward's linkage，V-linkage等其他方法。"
   ]
  },
  {
   "cell_type": "markdown",
   "metadata": {},
   "source": [
    "## 2. 使用scipy进行层次聚类"
   ]
  },
  {
   "cell_type": "code",
   "execution_count": 2,
   "metadata": {
    "collapsed": false
   },
   "outputs": [],
   "source": [
    "# load library\n",
    "import pandas as pd\n",
    "import numpy as np\n",
    "%matplotlib inline\n",
    "import matplotlib.pyplot as plt\n",
    "plt.style.use('ggplot')"
   ]
  },
  {
   "cell_type": "markdown",
   "metadata": {},
   "source": [
    "### 2.1 创建数据"
   ]
  },
  {
   "cell_type": "code",
   "execution_count": 48,
   "metadata": {
    "collapsed": false
   },
   "outputs": [
    {
     "data": {
      "text/html": [
       "<div>\n",
       "<table border=\"1\" class=\"dataframe\">\n",
       "  <thead>\n",
       "    <tr style=\"text-align: right;\">\n",
       "      <th></th>\n",
       "      <th>X</th>\n",
       "      <th>Y</th>\n",
       "      <th>Z</th>\n",
       "    </tr>\n",
       "  </thead>\n",
       "  <tbody>\n",
       "    <tr>\n",
       "      <th>ID_0</th>\n",
       "      <td>2.942023</td>\n",
       "      <td>0.979959</td>\n",
       "      <td>5.253712</td>\n",
       "    </tr>\n",
       "    <tr>\n",
       "      <th>ID_1</th>\n",
       "      <td>9.997822</td>\n",
       "      <td>0.148558</td>\n",
       "      <td>2.715511</td>\n",
       "    </tr>\n",
       "    <tr>\n",
       "      <th>ID_2</th>\n",
       "      <td>7.556867</td>\n",
       "      <td>8.416887</td>\n",
       "      <td>3.703794</td>\n",
       "    </tr>\n",
       "    <tr>\n",
       "      <th>ID_3</th>\n",
       "      <td>0.365229</td>\n",
       "      <td>8.532186</td>\n",
       "      <td>0.464417</td>\n",
       "    </tr>\n",
       "    <tr>\n",
       "      <th>ID_4</th>\n",
       "      <td>6.880232</td>\n",
       "      <td>9.824493</td>\n",
       "      <td>1.221621</td>\n",
       "    </tr>\n",
       "  </tbody>\n",
       "</table>\n",
       "</div>"
      ],
      "text/plain": [
       "             X         Y         Z\n",
       "ID_0  2.942023  0.979959  5.253712\n",
       "ID_1  9.997822  0.148558  2.715511\n",
       "ID_2  7.556867  8.416887  3.703794\n",
       "ID_3  0.365229  8.532186  0.464417\n",
       "ID_4  6.880232  9.824493  1.221621"
      ]
     },
     "execution_count": 48,
     "metadata": {},
     "output_type": "execute_result"
    }
   ],
   "source": [
    "variables = ['X', 'Y', 'Z']\n",
    "labels = ['ID_0', 'ID_1', 'ID_2', 'ID_3', 'ID_4']\n",
    "X = np.random.random_sample([5,3]) * 10\n",
    "df = pd.DataFrame(X, columns=variables, index=labels)\n",
    "df"
   ]
  },
  {
   "cell_type": "markdown",
   "metadata": {
    "collapsed": false
   },
   "source": [
    "上述代码创建了5个三维数据点，范围为[0, 10]。\n",
    "\n",
    "### 2.2 使用scipy聚类："
   ]
  },
  {
   "cell_type": "code",
   "execution_count": 17,
   "metadata": {
    "collapsed": true
   },
   "outputs": [],
   "source": [
    "from scipy.cluster.hierarchy import linkage"
   ]
  },
  {
   "cell_type": "code",
   "execution_count": 59,
   "metadata": {
    "collapsed": false
   },
   "outputs": [
    {
     "data": {
      "text/plain": [
       "array([[  2.        ,   4.        ,   2.9326388 ,   2.        ],\n",
       "       [  0.        ,   1.        ,   7.5444017 ,   2.        ],\n",
       "       [  3.        ,   5.        ,   7.88837863,   3.        ],\n",
       "       [  6.        ,   7.        ,  12.96686157,   5.        ]])"
      ]
     },
     "execution_count": 59,
     "metadata": {},
     "output_type": "execute_result"
    }
   ],
   "source": [
    "row_clusters = linkage(df.values,\n",
    "        method='complete',\n",
    "        metric='euclidean')\n",
    "row_clusters"
   ]
  },
  {
   "cell_type": "markdown",
   "metadata": {},
   "source": [
    "聚类结果分为$(N-1) \\times 4$的矩阵，每行代表第$i$次迭代的结果。前两列分别是第$i$次被合并的两类的index，生成的新类的index为$N+i$。第三列为被合并的这两类的距离，最后一列是合并得到的新类含有的样本数量。\n",
    "\n",
    "用pandas的DataFrame可视化的结果如下："
   ]
  },
  {
   "cell_type": "code",
   "execution_count": 60,
   "metadata": {
    "collapsed": false
   },
   "outputs": [
    {
     "data": {
      "text/html": [
       "<div>\n",
       "<table border=\"1\" class=\"dataframe\">\n",
       "  <thead>\n",
       "    <tr style=\"text-align: right;\">\n",
       "      <th></th>\n",
       "      <th>row label 1</th>\n",
       "      <th>row label 2</th>\n",
       "      <th>distance</th>\n",
       "      <th>no. of items in clust.</th>\n",
       "    </tr>\n",
       "  </thead>\n",
       "  <tbody>\n",
       "    <tr>\n",
       "      <th>cluster 1</th>\n",
       "      <td>2.0</td>\n",
       "      <td>4.0</td>\n",
       "      <td>2.932639</td>\n",
       "      <td>2.0</td>\n",
       "    </tr>\n",
       "    <tr>\n",
       "      <th>cluster 2</th>\n",
       "      <td>0.0</td>\n",
       "      <td>1.0</td>\n",
       "      <td>7.544402</td>\n",
       "      <td>2.0</td>\n",
       "    </tr>\n",
       "    <tr>\n",
       "      <th>cluster 3</th>\n",
       "      <td>3.0</td>\n",
       "      <td>5.0</td>\n",
       "      <td>7.888379</td>\n",
       "      <td>3.0</td>\n",
       "    </tr>\n",
       "    <tr>\n",
       "      <th>cluster 4</th>\n",
       "      <td>6.0</td>\n",
       "      <td>7.0</td>\n",
       "      <td>12.966862</td>\n",
       "      <td>5.0</td>\n",
       "    </tr>\n",
       "  </tbody>\n",
       "</table>\n",
       "</div>"
      ],
      "text/plain": [
       "           row label 1  row label 2   distance  no. of items in clust.\n",
       "cluster 1          2.0          4.0   2.932639                     2.0\n",
       "cluster 2          0.0          1.0   7.544402                     2.0\n",
       "cluster 3          3.0          5.0   7.888379                     3.0\n",
       "cluster 4          6.0          7.0  12.966862                     5.0"
      ]
     },
     "execution_count": 60,
     "metadata": {},
     "output_type": "execute_result"
    }
   ],
   "source": [
    "pd.DataFrame(row_clusters,\n",
    "            columns=['row label 1',\n",
    "                     'row label 2',\n",
    "                     'distance',\n",
    "                     'no. of items in clust.'],\n",
    "            index=['cluster %d' % (i+1) for i in \n",
    "                   range(row_clusters.shape[0])])"
   ]
  },
  {
   "cell_type": "markdown",
   "metadata": {},
   "source": [
    "### 2.3 Dendrogram可视化聚类过程"
   ]
  },
  {
   "cell_type": "code",
   "execution_count": 61,
   "metadata": {
    "collapsed": true
   },
   "outputs": [],
   "source": [
    "from scipy.cluster.hierarchy import dendrogram"
   ]
  },
  {
   "cell_type": "code",
   "execution_count": 62,
   "metadata": {
    "collapsed": false,
    "scrolled": true
   },
   "outputs": [
    {
     "data": {
      "image/png": "[encoded data removed]",
      "text/plain": [
       "<matplotlib.figure.Figure at 0x1092314a8>"
      ]
     },
     "metadata": {},
     "output_type": "display_data"
    }
   ],
   "source": [
    "row_dendr = dendrogram(row_clusters,\n",
    "                       labels=labels,\n",
    "                       )"
   ]
  },
  {
   "cell_type": "markdown",
   "metadata": {},
   "source": [
    "## 3. 参考资料\n",
    "\n",
    "* [Python Machine Learning, Sebastian Raschka](https://www.amazon.com/Python-Machine-Learning-Sebastian-Raschka/dp/1783555130/ref=sr_1_sc_1?ie=UTF8&qid=1494753213&sr=8-1-spell&keywords=python+machine+leanring)"
   ]
  }
 ],
 "metadata": {
  "kernelspec": {
   "display_name": "Python 3",
   "language": "python",
   "name": "python3"
  },
  "language_info": {
   "codemirror_mode": {
    "name": "ipython",
    "version": 3
   },
   "file_extension": ".py",
   "mimetype": "text/x-python",
   "name": "python",
   "nbconvert_exporter": "python",
   "pygments_lexer": "ipython3",
   "version": "3.5.2"
  }
 },
 "nbformat": 4,
 "nbformat_minor": 1
}
